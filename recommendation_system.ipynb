{
  "nbformat": 4,
  "nbformat_minor": 0,
  "metadata": {
    "colab": {
      "provenance": [],
      "gpuType": "T4"
    },
    "kernelspec": {
      "name": "python3",
      "display_name": "Python 3"
    },
    "language_info": {
      "name": "python"
    },
    "accelerator": "GPU"
  },
  "cells": [
    {
      "cell_type": "markdown",
      "source": [
        "# Sistem Rekomendasi Game dengan Content-Based dan Collaborative Filtering\n",
        "\n",
        "Proyek ini bertujuan untuk membangun **sistem rekomendasi game** berbasis data pengguna, metadata game, dan interaksi pengguna dengan game. Dua pendekatan yang digunakan adalah:\n",
        "\n",
        "- **Content-Based Filtering** yaitu memberikan rekomendasi berdasarkan kemiripan antar game berdasarkan fitur.\n",
        "- **Collaborative Filtering** yaitu memberikan rekomendasi berdasarkan preferensi pengguna lain yang serupa.\n",
        "\n",
        "Dataset yang digunakan mencakup tiga file utama:\n",
        "- `recommendations.csv`: Data review game oleh pengguna\n",
        "- `games.csv`: Data detail game\n",
        "- `users.csv`: Data pengguna.\n",
        "\n",
        "sumber data:\n",
        "https://www.kaggle.com/datasets/antonkozyriev/game-recommendations-on-steam"
      ],
      "metadata": {
        "id": "35T0C0oceDxi"
      }
    },
    {
      "cell_type": "markdown",
      "source": [
        "Nama Lengkap: Muhammad Sulthan Nasyira\n",
        "\n",
        "Alur Belajar: Machine Learning Engineer\n",
        "\n",
        "Cohort ID: MC589D5Y2486\n",
        "\n",
        "Coding Camp Email Username: mc589d5y2486@student.devacademy.id\n",
        "\n",
        "Email Terdaftar: sulthanasyirah@gmail.com\n",
        "\n",
        "Group Belajar: MC-49"
      ],
      "metadata": {
        "id": "CdsQA7awdy7x"
      }
    },
    {
      "cell_type": "markdown",
      "source": [
        "## 1. Import Library"
      ],
      "metadata": {
        "id": "P-V4tk3oo13G"
      }
    },
    {
      "cell_type": "markdown",
      "source": [
        "Pada tahap ini, kita melakukan import library yang diperlukan untuk proses analisis, manipulasi data, dan pembuatan model rekomendasi"
      ],
      "metadata": {
        "id": "mQ2sO7ZAekYL"
      }
    },
    {
      "cell_type": "code",
      "execution_count": null,
      "metadata": {
        "id": "8EcaeMUPofjn"
      },
      "outputs": [],
      "source": [
        "import pandas as pd\n",
        "import numpy as np\n",
        "from sklearn.metrics.pairwise import cosine_similarity\n",
        "from sklearn.feature_extraction.text import TfidfVectorizer\n",
        "from sklearn.preprocessing import MinMaxScaler\n",
        "from surprise import Dataset, Reader, SVD\n",
        "from surprise.model_selection import cross_validate\n",
        "import matplotlib.pyplot as plt\n",
        "import seaborn as sns"
      ]
    },
    {
      "cell_type": "markdown",
      "source": [
        "## 2. Load Dataset"
      ],
      "metadata": {
        "id": "sxggjZaPo6kW"
      }
    },
    {
      "cell_type": "markdown",
      "source": [
        "Kita membaca dataset dari file CSV dan memeriksa informasi awal untuk memahami struktur datanya"
      ],
      "metadata": {
        "id": "p2PJT6F-eo7U"
      }
    },
    {
      "cell_type": "code",
      "source": [
        "recommendations = pd.read_csv(\"recommendations.csv\")\n",
        "games = pd.read_csv(\"games.csv\")\n",
        "users = pd.read_csv(\"users.csv\")"
      ],
      "metadata": {
        "id": "RD6vGTxaok4a"
      },
      "execution_count": null,
      "outputs": []
    },
    {
      "cell_type": "markdown",
      "source": [
        "## 3. Data Understanding"
      ],
      "metadata": {
        "id": "Sfk3t4p_o86D"
      }
    },
    {
      "cell_type": "markdown",
      "source": [
        "## 📊 Data Understanding\n",
        "\n",
        "Dataset yang digunakan terdiri dari tiga sumber data:\n",
        "\n",
        "1. `games.csv` berisi informasi game seperti judul, rating, platform, dan tanggal rilis\n",
        "2. `users.csv` berisi informasi pengguna (user_id)\n",
        "3. `recommendations.csv` - berisi data rekomendasi pengguna terhadap game, termasuk apakah game direkomendasikan atau tidak.\n",
        "\n",
        "Langkah awal dilakukan untuk memahami struktur data dan memastikan konsistensi data, termasuk konversi tipe data dan penanganan nilai kosong"
      ],
      "metadata": {
        "id": "PQ2sMzs4erHW"
      }
    },
    {
      "cell_type": "code",
      "source": [
        "print(recommendations.info())\n",
        "print(games.info())\n",
        "print(users.info())\n",
        "\n",
        "rating_counts = games['rating'].value_counts()\n",
        "\n",
        "print(\"Distribusi Rating Game:\")\n",
        "print(rating_counts)\n",
        "\n",
        "rating_ratio = games.groupby('rating')['positive_ratio'].mean().sort_values(ascending=False)\n",
        "\n",
        "print(\"\\nRata-rata Positive Ratio per Rating:\")\n",
        "print(rating_ratio)\n",
        "\n",
        "platform_support = games[['win', 'mac', 'linux', 'steam_deck']].mean() * 100\n",
        "\n",
        "print(\"\\nPersentase Dukungan Platform:\")\n",
        "print(platform_support.round(2))\n",
        "\n",
        "recommend_counts = recommendations['is_recommended'].value_counts(normalize=True) * 100\n",
        "\n",
        "print(\"\\nDistribusi Review Rekomendasi (%):\")\n",
        "print(recommend_counts.round(2))"
      ],
      "metadata": {
        "colab": {
          "base_uri": "https://localhost:8080/"
        },
        "id": "y_1sDxB5omVN",
        "outputId": "0d28c476-ae8b-45c9-f6a0-4910471c4671"
      },
      "execution_count": null,
      "outputs": [
        {
          "output_type": "stream",
          "name": "stdout",
          "text": [
            "<class 'pandas.core.frame.DataFrame'>\n",
            "RangeIndex: 2057740 entries, 0 to 2057739\n",
            "Data columns (total 9 columns):\n",
            " #   Column          Dtype         \n",
            "---  ------          -----         \n",
            " 0   app_id          int64         \n",
            " 1   helpful         int64         \n",
            " 2   funny           int64         \n",
            " 3   date            datetime64[ns]\n",
            " 4   is_recommended  bool          \n",
            " 5   hours           float64       \n",
            " 6   user_id         int64         \n",
            " 7   review_id       int64         \n",
            " 8   year            int32         \n",
            "dtypes: bool(1), datetime64[ns](1), float64(1), int32(1), int64(5)\n",
            "memory usage: 119.7 MB\n",
            "None\n",
            "<class 'pandas.core.frame.DataFrame'>\n",
            "RangeIndex: 2544 entries, 0 to 2543\n",
            "Data columns (total 13 columns):\n",
            " #   Column          Non-Null Count  Dtype         \n",
            "---  ------          --------------  -----         \n",
            " 0   app_id          2544 non-null   int64         \n",
            " 1   title           2544 non-null   object        \n",
            " 2   date_release    2544 non-null   datetime64[ns]\n",
            " 3   win             2544 non-null   bool          \n",
            " 4   mac             2544 non-null   bool          \n",
            " 5   linux           2544 non-null   bool          \n",
            " 6   rating          2544 non-null   object        \n",
            " 7   positive_ratio  2544 non-null   int64         \n",
            " 8   user_reviews    2544 non-null   int64         \n",
            " 9   price_final     2544 non-null   float64       \n",
            " 10  price_original  2544 non-null   float64       \n",
            " 11  discount        2544 non-null   float64       \n",
            " 12  steam_deck      2544 non-null   bool          \n",
            "dtypes: bool(4), datetime64[ns](1), float64(3), int64(3), object(2)\n",
            "memory usage: 188.9+ KB\n",
            "None\n",
            "<class 'pandas.core.frame.DataFrame'>\n",
            "RangeIndex: 715303 entries, 0 to 715302\n",
            "Data columns (total 3 columns):\n",
            " #   Column    Non-Null Count   Dtype\n",
            "---  ------    --------------   -----\n",
            " 0   user_id   715303 non-null  int64\n",
            " 1   products  715303 non-null  int64\n",
            " 2   reviews   715303 non-null  int64\n",
            "dtypes: int64(3)\n",
            "memory usage: 16.4 MB\n",
            "None\n",
            "Distribusi Rating Game:\n",
            "rating\n",
            "Positive                   664\n",
            "Very Positive              641\n",
            "Mixed                      631\n",
            "Mostly Positive            449\n",
            "Mostly Negative             97\n",
            "Overwhelmingly Positive     45\n",
            "Negative                    12\n",
            "Very Negative                4\n",
            "Overwhelmingly Negative      1\n",
            "Name: count, dtype: int64\n",
            "\n",
            "Rata-rata Positive Ratio per Rating:\n",
            "rating\n",
            "Overwhelmingly Positive    96.200000\n",
            "Positive                   91.257530\n",
            "Very Positive              88.728549\n",
            "Mostly Positive            74.663697\n",
            "Mixed                      57.711569\n",
            "Mostly Negative            31.030928\n",
            "Overwhelmingly Negative    13.000000\n",
            "Negative                   12.416667\n",
            "Very Negative              11.500000\n",
            "Name: positive_ratio, dtype: float64\n",
            "\n",
            "Persentase Dukungan Platform:\n",
            "win           98.00\n",
            "mac           26.18\n",
            "linux         18.47\n",
            "steam_deck    99.96\n",
            "dtype: float64\n",
            "\n",
            "Distribusi Review Rekomendasi (%):\n",
            "is_recommended\n",
            "True     85.8\n",
            "False    14.2\n",
            "Name: proportion, dtype: float64\n"
          ]
        }
      ]
    },
    {
      "cell_type": "markdown",
      "source": [
        "## 4. Data preparation"
      ],
      "metadata": {
        "id": "nDOOTPcupDix"
      }
    },
    {
      "cell_type": "markdown",
      "source": [
        "- Menggabungkan data rekomendasi dengan data game dan pengguna.\n",
        "- Menangani nilai kosong pada kolom-kolom penting.\n",
        "- Mengubah tipe data ke format yang sesuai (`datetime`, `bool`, dll.).\n",
        "- Menyimpan dataset yang telah dibersihkan ke dalam file `cleaned_recommendations.csv` untuk digunakan dalam proses modelling.\n"
      ],
      "metadata": {
        "id": "CVkeP5I1fBfU"
      }
    },
    {
      "cell_type": "code",
      "source": [
        "recommendations['date'] = pd.to_datetime(recommendations['date'])\n",
        "games['date_release'] = pd.to_datetime(games['date_release'])\n",
        "\n",
        "games[['win', 'mac', 'linux', 'steam_deck']] = games[['win', 'mac', 'linux', 'steam_deck']].astype(bool)\n",
        "recommendations['is_recommended'] = recommendations['is_recommended'].astype(bool)\n",
        "\n",
        "merged_df = recommendations.merge(games, on='app_id', how='left')\n",
        "merged_df = merged_df.merge(users, on='user_id', how='left')\n",
        "\n",
        "important_columns = ['title', 'date_release', 'price_final', 'positive_ratio', 'products', 'reviews']\n",
        "cleaned_df = merged_df.dropna(subset=important_columns)\n",
        "\n",
        "print(cleaned_df.info())\n",
        "print(cleaned_df.head())\n",
        "\n",
        "rows, cols = cleaned_df.shape\n",
        "print(f\"Total rows: {rows}\")\n",
        "print(f\"Total columns: {cols}\")\n"
      ],
      "metadata": {
        "colab": {
          "base_uri": "https://localhost:8080/"
        },
        "id": "AHvyFvN7ouLI",
        "outputId": "3f89244d-21e6-475e-c1af-e1552ff78eb2"
      },
      "execution_count": null,
      "outputs": [
        {
          "output_type": "stream",
          "name": "stdout",
          "text": [
            "<class 'pandas.core.frame.DataFrame'>\n",
            "Index: 3901 entries, 691 to 2057424\n",
            "Data columns (total 23 columns):\n",
            " #   Column          Non-Null Count  Dtype         \n",
            "---  ------          --------------  -----         \n",
            " 0   app_id          3901 non-null   int64         \n",
            " 1   helpful         3901 non-null   int64         \n",
            " 2   funny           3901 non-null   int64         \n",
            " 3   date            3901 non-null   datetime64[ns]\n",
            " 4   is_recommended  3901 non-null   bool          \n",
            " 5   hours           3901 non-null   float64       \n",
            " 6   user_id         3901 non-null   int64         \n",
            " 7   review_id       3901 non-null   int64         \n",
            " 8   year            3901 non-null   int32         \n",
            " 9   title           3901 non-null   object        \n",
            " 10  date_release    3901 non-null   datetime64[ns]\n",
            " 11  win             3901 non-null   object        \n",
            " 12  mac             3901 non-null   object        \n",
            " 13  linux           3901 non-null   object        \n",
            " 14  rating          3901 non-null   object        \n",
            " 15  positive_ratio  3901 non-null   float64       \n",
            " 16  user_reviews    3901 non-null   float64       \n",
            " 17  price_final     3901 non-null   float64       \n",
            " 18  price_original  3901 non-null   float64       \n",
            " 19  discount        3901 non-null   float64       \n",
            " 20  steam_deck      3901 non-null   object        \n",
            " 21  products        3901 non-null   float64       \n",
            " 22  reviews         3901 non-null   float64       \n",
            "dtypes: bool(1), datetime64[ns](2), float64(8), int32(1), int64(5), object(6)\n",
            "memory usage: 689.5+ KB\n",
            "None\n",
            "       app_id  helpful  funny       date  is_recommended  hours   user_id  \\\n",
            "691   1222730        0      0 2022-08-03            True    0.8   1082252   \n",
            "1528   433850        0      0 2018-02-10           False   74.2   6024918   \n",
            "2196   583950        4      0 2021-03-05           False   19.8   5264306   \n",
            "2336   303210        0      0 2016-01-01            True    2.0  12036528   \n",
            "2943   513710        0      0 2022-07-16            True  131.6   1291043   \n",
            "\n",
            "      review_id  year                  title  ...  linux           rating  \\\n",
            "691    27177787  2022  STAR WARS™: Squadrons  ...  False  Mostly Positive   \n",
            "1528   37914400  2018       Z1 Battle Royale  ...  False            Mixed   \n",
            "2196   28138422  2021               Artifact  ...   True            Mixed   \n",
            "2336   38777339  2016   The Beginner's Guide  ...   True    Very Positive   \n",
            "2943    6644881  2022                   SCUM  ...  False  Mostly Positive   \n",
            "\n",
            "     positive_ratio user_reviews price_final  price_original  discount  \\\n",
            "691            70.0      21288.0       39.99           39.99       0.0   \n",
            "1528           55.0     207328.0        0.00            0.00       0.0   \n",
            "2196           46.0      24797.0        0.00            0.00       0.0   \n",
            "2336           87.0      15335.0        9.99            9.99       0.0   \n",
            "2943           74.0      75107.0       40.00            0.00       0.0   \n",
            "\n",
            "      steam_deck  products  reviews  \n",
            "691         True      95.0      4.0  \n",
            "1528        True      59.0      1.0  \n",
            "2196        True     593.0     41.0  \n",
            "2336        True     255.0      2.0  \n",
            "2943        True      74.0      6.0  \n",
            "\n",
            "[5 rows x 23 columns]\n",
            "Total rows: 3901\n",
            "Total columns: 23\n"
          ]
        }
      ]
    },
    {
      "cell_type": "code",
      "source": [
        "from google.colab import files\n",
        "cleaned_df.to_csv(\"cleaned_recommendations.csv\", index=False)\n",
        "files.download(\"cleaned_recommendations.csv\")\n"
      ],
      "metadata": {
        "colab": {
          "base_uri": "https://localhost:8080/",
          "height": 17
        },
        "id": "m-m9DQWiLt2f",
        "outputId": "9f976263-a2c4-4962-fa04-2fe84cb5e424"
      },
      "execution_count": null,
      "outputs": [
        {
          "output_type": "display_data",
          "data": {
            "text/plain": [
              "<IPython.core.display.Javascript object>"
            ],
            "application/javascript": [
              "\n",
              "    async function download(id, filename, size) {\n",
              "      if (!google.colab.kernel.accessAllowed) {\n",
              "        return;\n",
              "      }\n",
              "      const div = document.createElement('div');\n",
              "      const label = document.createElement('label');\n",
              "      label.textContent = `Downloading \"${filename}\": `;\n",
              "      div.appendChild(label);\n",
              "      const progress = document.createElement('progress');\n",
              "      progress.max = size;\n",
              "      div.appendChild(progress);\n",
              "      document.body.appendChild(div);\n",
              "\n",
              "      const buffers = [];\n",
              "      let downloaded = 0;\n",
              "\n",
              "      const channel = await google.colab.kernel.comms.open(id);\n",
              "      // Send a message to notify the kernel that we're ready.\n",
              "      channel.send({})\n",
              "\n",
              "      for await (const message of channel.messages) {\n",
              "        // Send a message to notify the kernel that we're ready.\n",
              "        channel.send({})\n",
              "        if (message.buffers) {\n",
              "          for (const buffer of message.buffers) {\n",
              "            buffers.push(buffer);\n",
              "            downloaded += buffer.byteLength;\n",
              "            progress.value = downloaded;\n",
              "          }\n",
              "        }\n",
              "      }\n",
              "      const blob = new Blob(buffers, {type: 'application/binary'});\n",
              "      const a = document.createElement('a');\n",
              "      a.href = window.URL.createObjectURL(blob);\n",
              "      a.download = filename;\n",
              "      div.appendChild(a);\n",
              "      a.click();\n",
              "      div.remove();\n",
              "    }\n",
              "  "
            ]
          },
          "metadata": {}
        },
        {
          "output_type": "display_data",
          "data": {
            "text/plain": [
              "<IPython.core.display.Javascript object>"
            ],
            "application/javascript": [
              "download(\"download_c4071ed9-fe19-457e-991a-b46edfcc4c02\", \"cleaned_recommendations.csv\", 593375)"
            ]
          },
          "metadata": {}
        }
      ]
    },
    {
      "cell_type": "markdown",
      "source": [
        "## 5. Content-Based Filtering"
      ],
      "metadata": {
        "id": "fgNMVn8OpGSf"
      }
    },
    {
      "cell_type": "markdown",
      "source": [
        "Pendekatan ini merekomendasikan game berdasarkan kesamaan fitur antar game, seperti:\n",
        "\n",
        "- Rasio ulasan positif (positive_ratio)\n",
        "- Rating konten (rating)\n",
        "- Dukungan sistem operasi (Windows, Mac, Linux, Steam Deck)\n",
        "\n",
        "Fitur dikodekan dan dinormalisasi sebelum dihitung kemiripannya menggunakan *cosine similarity*. Fungsi `recommend_similar_games()` digunakan untuk mengembalikan daftar game yang mirip dengan input.\n"
      ],
      "metadata": {
        "id": "GvGm7HMtrbwR"
      }
    },
    {
      "cell_type": "code",
      "source": [
        "content_features = games[['rating', 'positive_ratio', 'win', 'mac', 'linux', 'steam_deck']].copy()\n",
        "\n",
        "content_features['rating'] = content_features['rating'].fillna(\"Unknown\")\n",
        "content_features['rating_encoded'] = content_features['rating'].astype('category').cat.codes\n",
        "\n",
        "feature_matrix = content_features[['rating_encoded', 'positive_ratio', 'win', 'mac', 'linux', 'steam_deck']]\n",
        "scaler = MinMaxScaler()\n",
        "scaled_features = scaler.fit_transform(feature_matrix)\n",
        "\n",
        "similarity_matrix = cosine_similarity(scaled_features)\n",
        "\n",
        "def recommend_similar_games(game_id, top_n=5):\n",
        "    try:\n",
        "        idx = games[games['app_id'] == game_id].index[0]\n",
        "        similarity_scores = list(enumerate(similarity_matrix[idx]))\n",
        "        similarity_scores = sorted(similarity_scores, key=lambda x: x[1], reverse=True)[1:top_n+1]\n",
        "        game_indices = [i[0] for i in similarity_scores]\n",
        "        return games.iloc[game_indices][['app_id', 'title']]\n",
        "    except:\n",
        "        return \"Game ID not found.\"\n",
        "\n",
        "print(\"\\nRekomendasi mirip dengan 'Super Blackjack Battle 2 Turbo Edition - The Card Warriors':\")\n",
        "print(recommend_similar_games(545200))"
      ],
      "metadata": {
        "colab": {
          "base_uri": "https://localhost:8080/"
        },
        "id": "hnRetfqqowSe",
        "outputId": "1566fdaf-1061-489b-ee65-fd8d152c116e"
      },
      "execution_count": null,
      "outputs": [
        {
          "output_type": "stream",
          "name": "stdout",
          "text": [
            "\n",
            "Rekomendasi mirip dengan 'Super Blackjack Battle 2 Turbo Edition - The Card Warriors':\n",
            "      app_id                                              title\n",
            "18   1146320                      GRID Ultimate Edition Upgrade\n",
            "85   2471820                                    СТРАШНО И ТОЧКА\n",
            "360  1637251  Train Simulator: Southwestern Expressways: Rea...\n",
            "409  2169810                                            Mermaid\n",
            "428   657590                                        Grav Blazer\n"
          ]
        }
      ]
    },
    {
      "cell_type": "markdown",
      "source": [
        "## 6. Collaborative Filtering"
      ],
      "metadata": {
        "id": "pOtEPTFcpMMS"
      }
    },
    {
      "cell_type": "markdown",
      "source": [
        "Pendekatan ini menggunakan model **SVD (Singular Value Decomposition)** dari pustaka `Surprise`.\n",
        "\n",
        "Langkah-langkah:\n",
        "- Menyusun data dalam format user-item interaction (`user_id`, `app_id`, `is_recommended`)\n",
        "- Melatih model menggunakan semua data dengan evaluasi RMSE dan MAE melalui cross-validation\n",
        "- Fungsi `recommend_for_user()` akan memberikan rekomendasi game yang belum pernah diulas oleh pengguna berdasarkan prediksi preferensi.\n"
      ],
      "metadata": {
        "id": "9EoliRQ6rjU1"
      }
    },
    {
      "cell_type": "code",
      "source": [
        "cf_data = recommendations[['user_id', 'app_id', 'is_recommended']].copy()\n",
        "cf_data['is_recommended'] = cf_data['is_recommended'].astype(int)\n",
        "\n",
        "reader = Reader(rating_scale=(0, 1))\n",
        "data = Dataset.load_from_df(cf_data[['user_id', 'app_id', 'is_recommended']], reader)\n",
        "\n",
        "model = SVD()\n",
        "cross_validate(model, data, measures=['RMSE', 'MAE'], cv=3, verbose=True)\n",
        "\n",
        "trainset = data.build_full_trainset()\n",
        "model.fit(trainset)\n",
        "\n",
        "def recommend_for_user(user_id, n=5):\n",
        "    all_game_ids = games['app_id'].unique()\n",
        "    reviewed_games = cf_data[cf_data['user_id'] == user_id]['app_id'].values\n",
        "    unseen_games = [app_id for app_id in all_game_ids if app_id not in reviewed_games]\n",
        "\n",
        "    if not trainset.knows_user(user_id):\n",
        "        print(f\"User ID {user_id} tidak ditemukan dalam data pelatihan.\")\n",
        "        return pd.DataFrame()\n",
        "\n",
        "    predictions = [model.predict(user_id, app_id) for app_id in unseen_games]\n",
        "    top_predictions = sorted(predictions, key=lambda x: x.est, reverse=True)[:n]\n",
        "    top_app_ids = [pred.iid for pred in top_predictions]\n",
        "    recommended_games = games[games['app_id'].isin(top_app_ids)][['app_id', 'title']]\n",
        "    return recommended_games\n",
        "\n",
        "print(\"\\nRekomendasi game untuk user_id = 253880:\")\n",
        "print(recommend_for_user(253880))\n"
      ],
      "metadata": {
        "colab": {
          "base_uri": "https://localhost:8080/"
        },
        "id": "rcMyp6N1owy2",
        "outputId": "e06d06d6-ab63-4e71-b3e4-e93459359bd2"
      },
      "execution_count": null,
      "outputs": [
        {
          "output_type": "stream",
          "name": "stdout",
          "text": [
            "Evaluating RMSE, MAE of algorithm SVD on 3 split(s).\n",
            "\n",
            "                  Fold 1  Fold 2  Fold 3  Mean    Std     \n",
            "RMSE (testset)    0.3303  0.3293  0.3289  0.3295  0.0006  \n",
            "MAE (testset)     0.2136  0.2131  0.2138  0.2135  0.0003  \n",
            "Fit time          29.40   30.58   30.46   30.14   0.53    \n",
            "Test time         6.27    3.40    3.52    4.40    1.32    \n",
            "\n",
            "Rekomendasi game untuk user_id = 253880:\n",
            "     app_id                                 title\n",
            "14   402890                           Nyctophilia\n",
            "21  1845880                  SEARCH ALL - POTIONS\n",
            "22  1672690  Across the Galaxy: Stellar Dominator\n",
            "29  1764390                       BAD END THEATER\n",
            "54  1336950                                VoxFox\n"
          ]
        }
      ]
    },
    {
      "cell_type": "markdown",
      "source": [
        "##  7. Visualisasi"
      ],
      "metadata": {
        "id": "Q3Qx9aN1pTlv"
      }
    },
    {
      "cell_type": "markdown",
      "source": [
        "Untuk membantu interpretasi sistem rekomendasi:\n",
        "\n",
        "1. Visualisasi game mirip berdasarkan skor kemiripan dengan game tertentu\n",
        "2. Visualisasi rekomendasi game terbaik untuk pengguna tertentu berdasarkan skor prediksi dari collaborative filtering.\n",
        "\n",
        "Visualisasi dilakukan menggunakan matplotlib untuk tampilan grafik batang horizontal\n"
      ],
      "metadata": {
        "id": "thFr0QRlrozu"
      }
    },
    {
      "cell_type": "code",
      "source": [
        "example_game_id = 545200\n",
        "example_game_title = games[games['app_id'] == example_game_id]['title'].values[0]\n",
        "\n",
        "recommended = recommend_similar_games(example_game_id, top_n=5)\n",
        "\n",
        "idx = games[games['app_id'] == example_game_id].index[0]\n",
        "similarity_scores = list(enumerate(similarity_matrix[idx]))\n",
        "similarity_scores = sorted(similarity_scores, key=lambda x: x[1], reverse=True)[1:6]\n",
        "scores = [s[1] for s in similarity_scores]\n",
        "titles = games.iloc[[s[0] for s in similarity_scores]]['title'].values\n",
        "\n",
        "plt.figure(figsize=(8, 4))\n",
        "plt.barh(titles[::-1], scores[::-1], color='skyblue')\n",
        "plt.xlabel('Similarity Score')\n",
        "plt.title(f'Game Mirip dengan: {example_game_title}')\n",
        "plt.tight_layout()\n",
        "plt.show()\n",
        "\n",
        "\n",
        "def visualize_recommendations(user_id, n=5):\n",
        "\n",
        "    reviewed_games = cf_data[cf_data['user_id'] == user_id]['app_id'].values\n",
        "    unseen_games = [app_id for app_id in games['app_id'].unique() if app_id not in reviewed_games]\n",
        "    predictions = [model.predict(user_id, app_id) for app_id in unseen_games]\n",
        "    top_predictions = sorted(predictions, key=lambda x: x.est, reverse=True)[:n]\n",
        "\n",
        "    titles = []\n",
        "    scores = []\n",
        "    for pred in top_predictions:\n",
        "        game_title = games[games['app_id'] == int(pred.iid)]['title'].values[0]\n",
        "        titles.append(game_title)\n",
        "        scores.append(pred.est)\n",
        "\n",
        "    plt.figure(figsize=(8, 5))\n",
        "    plt.barh(titles[::-1], scores[::-1], color='mediumseagreen')\n",
        "    plt.xlabel('Skor Prediksi (est)')\n",
        "    plt.title(f'Top {n} Rekomendasi Game untuk User {user_id}')\n",
        "    plt.tight_layout()\n",
        "    plt.show()\n",
        "\n",
        "visualize_recommendations(253880, n=5)"
      ],
      "metadata": {
        "colab": {
          "base_uri": "https://localhost:8080/",
          "height": 897
        },
        "id": "CBJiWBG1ozk7",
        "outputId": "b192270c-8f00-492b-827a-48f318beda53"
      },
      "execution_count": null,
      "outputs": [
        {
          "output_type": "display_data",
          "data": {
            "text/plain": [
              "<Figure size 800x400 with 1 Axes>"
            ],
            "image/png": "[encoded data removed]"
          },
          "metadata": {}
        },
        {
          "output_type": "display_data",
          "data": {
            "text/plain": [
              "<Figure size 800x500 with 1 Axes>"
            ],
            "image/png": "[encoded data removed]"
          },
          "metadata": {}
        }
      ]
    }
  ]
}